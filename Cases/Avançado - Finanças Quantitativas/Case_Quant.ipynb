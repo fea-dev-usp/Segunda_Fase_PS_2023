{
  "cells": [
    {
      "attachments": {},
      "cell_type": "markdown",
      "metadata": {},
      "source": [
        "<div align='center'><a href='https://linktr.ee/fea.dev'/ style='display:inline-block'><img src=\"data:image/png;base64,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\" height=\"100%\" width=\"350\" ><a/><div/>"
      ]
    },
    {
      "attachments": {},
      "cell_type": "markdown",
      "metadata": {},
      "source": [
        "# <font color=blue|blue|red>Case Avançado Quant</font>\n",
        "\n",
        "Estamos muito felizes pela sua escolha com o case de finanças quantitativas. Esperamos que você aprenda bastante conosco.  \n",
        "\n",
        "Caso não tenha lido as orientações no nosso [repositório do github](https://github.com/fea-dev-usp/Segunda_Fase_PS_2023), o faça imediatamente! É fundamental para teu bom desempenho no case.\n",
        "\n",
        "Rode a célula abaixo e entre em contato com um de nossos monitores no WhatsApp em caso de dúvida:"
      ]
    },
    {
      "cell_type": "code",
      "execution_count": null,
      "metadata": {},
      "outputs": [],
      "source": [
        "import random\n",
        "lista_contatos = [\"Alice Saraiva (+55 79 9874-7424)\",\n",
        "                  \"Ana Cristina (+55 11 9 7893-7687)\",\n",
        "                  \"Julio Manuel (+55 13 9 9778-2003)\",\n",
        "                  \"Rafael Macedo (+55 11 9 5848-0591)\"]\n",
        "\n",
        "print(f'Entrar em contato com {lista_contatos[random.randint(0, 3)]}.')"
      ]
    },
    {
      "attachments": {},
      "cell_type": "markdown",
      "metadata": {},
      "source": [
        "<br><hr>\n",
        "\n",
        "## **Parte I**"
      ]
    },
    {
      "attachments": {},
      "cell_type": "markdown",
      "metadata": {},
      "source": [
        "1) Usando a biblioteca Yahoo Finance, importe as séries temporais do preço de fechamento ajustado - de 01/01/2018 a 31/12/2022 - das ações da Vale (VALE3.SA), Petrobras (PETR4.SA), Magalu (MGLU3.SA), Bradesco (BBDC4.SA) e Itaú (ITUB4.SA). Deixe as cinco colunas em um mesmo DataFrame."
      ]
    },
    {
      "cell_type": "code",
      "execution_count": null,
      "metadata": {
        "id": "aUMhHlTXzl9t"
      },
      "outputs": [],
      "source": []
    },
    {
      "attachments": {},
      "cell_type": "markdown",
      "metadata": {
        "id": "avu84bCgzmT9"
      },
      "source": [
        "2) Faça um gráfico de linha para visualizar as cinco séries temporais, com todas elas na mesma figura. Assegure que cada linha corresponde a uma ação e que as linhas estejam legendadas."
      ]
    },
    {
      "cell_type": "code",
      "execution_count": null,
      "metadata": {
        "id": "qkfGyUExzpNI"
      },
      "outputs": [],
      "source": []
    },
    {
      "attachments": {},
      "cell_type": "markdown",
      "metadata": {
        "id": "KcgZdN-ZzpUK"
      },
      "source": [
        "3) Faça um gráfico de linha para visualizar o desvio padrão móvel de 20 dias das cinco séries temporais, no mesmo padrão de visualização da questão 2). Interprete o desvio padrão móvel de 20 dias (i.e., tente explicar o que ele significa). "
      ]
    },
    {
      "cell_type": "code",
      "execution_count": null,
      "metadata": {
        "id": "LkWN7Eu4zrsp"
      },
      "outputs": [],
      "source": []
    },
    {
      "attachments": {},
      "cell_type": "markdown",
      "metadata": {
        "id": "WQcX5WHjzsd6"
      },
      "source": [
        "4) Faça um gráfico contendo o preço de fechamento das ações da Petrobras, com as Bandas de Bollinger (dois desvios para cima e dois para baixo). Tente interpretar."
      ]
    },
    {
      "cell_type": "code",
      "execution_count": null,
      "metadata": {
        "id": "FA1a_WIGzvpP"
      },
      "outputs": [],
      "source": []
    },
    {
      "attachments": {},
      "cell_type": "markdown",
      "metadata": {
        "id": "KpSuc4tUzv8a"
      },
      "source": [
        "5) Faça um novo DataFrame com os retornos percentuais de cada ação no período especificado."
      ]
    },
    {
      "cell_type": "code",
      "execution_count": null,
      "metadata": {
        "id": "5yZYnF3vz3YZ"
      },
      "outputs": [],
      "source": []
    },
    {
      "attachments": {},
      "cell_type": "markdown",
      "metadata": {
        "id": "bNcAb-QKz52o"
      },
      "source": [
        "6) Faça um gráfico de linha para visualizar os retornos de todas as ações, no mesmo padrão de visualização da questão 2."
      ]
    },
    {
      "cell_type": "code",
      "execution_count": null,
      "metadata": {
        "id": "b7_-J-h0z60G"
      },
      "outputs": [],
      "source": []
    },
    {
      "attachments": {},
      "cell_type": "markdown",
      "metadata": {
        "id": "5a2kb-7Yz75L"
      },
      "source": [
        "7) Faça um gráfico de dispersão dos retornos do Bradesco e do Itaú. Tente interpetar."
      ]
    },
    {
      "cell_type": "code",
      "execution_count": null,
      "metadata": {
        "id": "x0sP5C9Vz-H5"
      },
      "outputs": [],
      "source": []
    },
    {
      "attachments": {},
      "cell_type": "markdown",
      "metadata": {
        "id": "Sx2xI_ESz_xp"
      },
      "source": [
        "8) Calcule a matriz de correlação de todos os retornos e visualize usando um mapa de calor (dê uma olhada na biblioteca Seaborn). Tente interpetar."
      ]
    },
    {
      "cell_type": "code",
      "execution_count": null,
      "metadata": {
        "id": "ws3DpVWL0BbJ"
      },
      "outputs": [],
      "source": []
    },
    {
      "attachments": {},
      "cell_type": "markdown",
      "metadata": {
        "id": "8Kuf1u8G0B-r"
      },
      "source": [
        "9) O que podemos falar sobre a performance das ações em 2021? Há alguma que performou melhor que as outras? E pior? Justifique. \n",
        "\n",
        "Obs.: sinta-se à vontade para explorar os dados e conseguir responder a essa questão. Recomenda-se que sejam feitos gráficos mais específicos para podermos analisar a performance das ações (não é necessário calcular nenhuma métrica ou entrar em muito detalhe, siga a sua intuição)."
      ]
    },
    {
      "cell_type": "code",
      "execution_count": null,
      "metadata": {
        "id": "388aEYu50Ek1"
      },
      "outputs": [],
      "source": []
    },
    {
      "attachments": {},
      "cell_type": "markdown",
      "metadata": {
        "id": "05VhbCxw0FhY"
      },
      "source": [
        "10) O que podemos falar sobre o risco das ações em 2020? Há alguma que se mostrou mais arriscada que as outras? E menos? Justifique. \n",
        "\n",
        "Obs.: sinta-se à vontade para explorar os dados e conseguir responder a essa questão. Recomenda-se que sejam feitos gráficos mais específicos para podermos analisar a performance das ações (não é necessário calcular nenhuma métrica ou entrar em muito detalhe, siga a sua intuição).\n"
      ]
    },
    {
      "cell_type": "code",
      "execution_count": null,
      "metadata": {
        "id": "bNkcMJIH0JvJ"
      },
      "outputs": [],
      "source": []
    },
    {
      "attachments": {},
      "cell_type": "markdown",
      "metadata": {},
      "source": [
        "<br><hr>\n",
        "\n",
        "## **Parte II**"
      ]
    },
    {
      "attachments": {},
      "cell_type": "markdown",
      "metadata": {},
      "source": [
        "1) Escolha um dos ativos extraídos e faça um histograma dos retornos logarítmicos. O gráfico sugere alguma distribuição para os retornos? "
      ]
    },
    {
      "cell_type": "code",
      "execution_count": null,
      "metadata": {},
      "outputs": [],
      "source": []
    },
    {
      "attachments": {},
      "cell_type": "markdown",
      "metadata": {},
      "source": [
        "2) Faça um teste de hipótese para verificarmos se a distribuição dos retornos logarítmicos do ativo escolhido no exercício 1 é normal. Com base no p-valor, interprete. \n",
        "\n",
        "Obs.: use um nível de significância de 5%."
      ]
    },
    {
      "cell_type": "code",
      "execution_count": null,
      "metadata": {},
      "outputs": [],
      "source": []
    },
    {
      "attachments": {},
      "cell_type": "markdown",
      "metadata": {},
      "source": [
        "3) Calcule o Máximo Drawdown das ações extraídas. Interprete, comparando os valores."
      ]
    },
    {
      "cell_type": "code",
      "execution_count": null,
      "metadata": {},
      "outputs": [],
      "source": []
    },
    {
      "attachments": {},
      "cell_type": "markdown",
      "metadata": {},
      "source": [
        "4) Gere pesos aleatórios para a composição de um portfólio com os cinco ativos extraídos. Guarde os pesos em alguma variável (pode ser uma lista, array, etc.).\n",
        "\n",
        "Obs.: os pesos de um portfólio com cinco ativos será uma \"coleção\" de cinco números que tomam valores entre 0 e 1 e - se somarmos todos eles - o resultado **deve** ser 1."
      ]
    },
    {
      "cell_type": "code",
      "execution_count": null,
      "metadata": {},
      "outputs": [],
      "source": []
    },
    {
      "attachments": {},
      "cell_type": "markdown",
      "metadata": {},
      "source": [
        "5) Usando os pesos gerados na questão 4), calcule o retorno diário esperado e o desvio-padrão (também diário) do portfólio.\n",
        "\n",
        "Obs.: pesquise como calcular ambos os valores."
      ]
    },
    {
      "cell_type": "code",
      "execution_count": null,
      "metadata": {},
      "outputs": [],
      "source": []
    },
    {
      "attachments": {},
      "cell_type": "markdown",
      "metadata": {},
      "source": [
        "6) Gere outro portfólio (com outros pesos), calcule seu retorno e o seu desvio-padrão e compare com os valores encontrados em 5), usando a visão risco X retorno."
      ]
    },
    {
      "cell_type": "code",
      "execution_count": null,
      "metadata": {},
      "outputs": [],
      "source": []
    },
    {
      "attachments": {},
      "cell_type": "markdown",
      "metadata": {},
      "source": [
        "<br><hr>\n",
        "\n",
        "## **Questão Extra**"
      ]
    },
    {
      "attachments": {},
      "cell_type": "markdown",
      "metadata": {},
      "source": [
        "Usando a Teoria Moderna do Portfólio, faça um gráfico contendo várias carteiras possíveis e evidencie a fronteira eficiente. "
      ]
    },
    {
      "cell_type": "code",
      "execution_count": null,
      "metadata": {},
      "outputs": [],
      "source": []
    }
  ],
  "metadata": {
    "colab": {
      "provenance": []
    },
    "kernelspec": {
      "display_name": "Python 3",
      "name": "python3"
    },
    "language_info": {
      "name": "python"
    }
  },
  "nbformat": 4,
  "nbformat_minor": 0
}
